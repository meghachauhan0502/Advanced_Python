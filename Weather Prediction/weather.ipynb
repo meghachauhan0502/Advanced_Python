{
 "cells": [
  {
   "cell_type": "code",
   "execution_count": 1,
   "id": "05cfa075",
   "metadata": {},
   "outputs": [
    {
     "data": {
      "text/html": [
       "<div>\n",
       "<style scoped>\n",
       "    .dataframe tbody tr th:only-of-type {\n",
       "        vertical-align: middle;\n",
       "    }\n",
       "\n",
       "    .dataframe tbody tr th {\n",
       "        vertical-align: top;\n",
       "    }\n",
       "\n",
       "    .dataframe thead th {\n",
       "        text-align: right;\n",
       "    }\n",
       "</style>\n",
       "<table border=\"1\" class=\"dataframe\">\n",
       "  <thead>\n",
       "    <tr style=\"text-align: right;\">\n",
       "      <th></th>\n",
       "      <th>STATION</th>\n",
       "      <th>NAME</th>\n",
       "      <th>LATITUDE</th>\n",
       "      <th>LONGITUDE</th>\n",
       "      <th>ELEVATION</th>\n",
       "      <th>PRCP</th>\n",
       "      <th>SNWD</th>\n",
       "      <th>TAVG</th>\n",
       "      <th>TMAX</th>\n",
       "      <th>TMIN</th>\n",
       "    </tr>\n",
       "    <tr>\n",
       "      <th>DATE</th>\n",
       "      <th></th>\n",
       "      <th></th>\n",
       "      <th></th>\n",
       "      <th></th>\n",
       "      <th></th>\n",
       "      <th></th>\n",
       "      <th></th>\n",
       "      <th></th>\n",
       "      <th></th>\n",
       "      <th></th>\n",
       "    </tr>\n",
       "  </thead>\n",
       "  <tbody>\n",
       "    <tr>\n",
       "      <th>2002-06-04</th>\n",
       "      <td>CA006158355</td>\n",
       "      <td>TORONTO CITY, ON CA</td>\n",
       "      <td>43.6667</td>\n",
       "      <td>-79.4</td>\n",
       "      <td>113.0</td>\n",
       "      <td>0.19</td>\n",
       "      <td>NaN</td>\n",
       "      <td>NaN</td>\n",
       "      <td>57.0</td>\n",
       "      <td>48.0</td>\n",
       "    </tr>\n",
       "    <tr>\n",
       "      <th>2002-06-05</th>\n",
       "      <td>CA006158355</td>\n",
       "      <td>TORONTO CITY, ON CA</td>\n",
       "      <td>43.6667</td>\n",
       "      <td>-79.4</td>\n",
       "      <td>113.0</td>\n",
       "      <td>0.13</td>\n",
       "      <td>NaN</td>\n",
       "      <td>NaN</td>\n",
       "      <td>74.0</td>\n",
       "      <td>52.0</td>\n",
       "    </tr>\n",
       "    <tr>\n",
       "      <th>2002-06-06</th>\n",
       "      <td>CA006158355</td>\n",
       "      <td>TORONTO CITY, ON CA</td>\n",
       "      <td>43.6667</td>\n",
       "      <td>-79.4</td>\n",
       "      <td>113.0</td>\n",
       "      <td>0.00</td>\n",
       "      <td>NaN</td>\n",
       "      <td>NaN</td>\n",
       "      <td>64.0</td>\n",
       "      <td>55.0</td>\n",
       "    </tr>\n",
       "    <tr>\n",
       "      <th>2002-06-07</th>\n",
       "      <td>CA006158355</td>\n",
       "      <td>TORONTO CITY, ON CA</td>\n",
       "      <td>43.6667</td>\n",
       "      <td>-79.4</td>\n",
       "      <td>113.0</td>\n",
       "      <td>0.00</td>\n",
       "      <td>NaN</td>\n",
       "      <td>NaN</td>\n",
       "      <td>71.0</td>\n",
       "      <td>52.0</td>\n",
       "    </tr>\n",
       "    <tr>\n",
       "      <th>2002-06-08</th>\n",
       "      <td>CA006158355</td>\n",
       "      <td>TORONTO CITY, ON CA</td>\n",
       "      <td>43.6667</td>\n",
       "      <td>-79.4</td>\n",
       "      <td>113.0</td>\n",
       "      <td>0.00</td>\n",
       "      <td>NaN</td>\n",
       "      <td>NaN</td>\n",
       "      <td>77.0</td>\n",
       "      <td>53.0</td>\n",
       "    </tr>\n",
       "    <tr>\n",
       "      <th>...</th>\n",
       "      <td>...</td>\n",
       "      <td>...</td>\n",
       "      <td>...</td>\n",
       "      <td>...</td>\n",
       "      <td>...</td>\n",
       "      <td>...</td>\n",
       "      <td>...</td>\n",
       "      <td>...</td>\n",
       "      <td>...</td>\n",
       "      <td>...</td>\n",
       "    </tr>\n",
       "    <tr>\n",
       "      <th>2023-02-07</th>\n",
       "      <td>CA006158355</td>\n",
       "      <td>TORONTO CITY, ON CA</td>\n",
       "      <td>43.6667</td>\n",
       "      <td>-79.4</td>\n",
       "      <td>113.0</td>\n",
       "      <td>0.00</td>\n",
       "      <td>2.0</td>\n",
       "      <td>40.0</td>\n",
       "      <td>48.0</td>\n",
       "      <td>32.0</td>\n",
       "    </tr>\n",
       "    <tr>\n",
       "      <th>2023-02-08</th>\n",
       "      <td>CA006158355</td>\n",
       "      <td>TORONTO CITY, ON CA</td>\n",
       "      <td>43.6667</td>\n",
       "      <td>-79.4</td>\n",
       "      <td>113.0</td>\n",
       "      <td>0.00</td>\n",
       "      <td>0.4</td>\n",
       "      <td>41.0</td>\n",
       "      <td>46.0</td>\n",
       "      <td>36.0</td>\n",
       "    </tr>\n",
       "    <tr>\n",
       "      <th>2023-02-09</th>\n",
       "      <td>CA006158355</td>\n",
       "      <td>TORONTO CITY, ON CA</td>\n",
       "      <td>43.6667</td>\n",
       "      <td>-79.4</td>\n",
       "      <td>113.0</td>\n",
       "      <td>1.11</td>\n",
       "      <td>NaN</td>\n",
       "      <td>40.0</td>\n",
       "      <td>45.0</td>\n",
       "      <td>36.0</td>\n",
       "    </tr>\n",
       "    <tr>\n",
       "      <th>2023-02-10</th>\n",
       "      <td>CA006158355</td>\n",
       "      <td>TORONTO CITY, ON CA</td>\n",
       "      <td>43.6667</td>\n",
       "      <td>-79.4</td>\n",
       "      <td>113.0</td>\n",
       "      <td>0.00</td>\n",
       "      <td>NaN</td>\n",
       "      <td>35.0</td>\n",
       "      <td>43.0</td>\n",
       "      <td>28.0</td>\n",
       "    </tr>\n",
       "    <tr>\n",
       "      <th>2023-02-11</th>\n",
       "      <td>CA006158355</td>\n",
       "      <td>TORONTO CITY, ON CA</td>\n",
       "      <td>43.6667</td>\n",
       "      <td>-79.4</td>\n",
       "      <td>113.0</td>\n",
       "      <td>0.00</td>\n",
       "      <td>0.0</td>\n",
       "      <td>31.0</td>\n",
       "      <td>36.0</td>\n",
       "      <td>25.0</td>\n",
       "    </tr>\n",
       "  </tbody>\n",
       "</table>\n",
       "<p>7520 rows × 10 columns</p>\n",
       "</div>"
      ],
      "text/plain": [
       "                STATION                 NAME  LATITUDE  LONGITUDE  ELEVATION  \\\n",
       "DATE                                                                           \n",
       "2002-06-04  CA006158355  TORONTO CITY, ON CA   43.6667      -79.4      113.0   \n",
       "2002-06-05  CA006158355  TORONTO CITY, ON CA   43.6667      -79.4      113.0   \n",
       "2002-06-06  CA006158355  TORONTO CITY, ON CA   43.6667      -79.4      113.0   \n",
       "2002-06-07  CA006158355  TORONTO CITY, ON CA   43.6667      -79.4      113.0   \n",
       "2002-06-08  CA006158355  TORONTO CITY, ON CA   43.6667      -79.4      113.0   \n",
       "...                 ...                  ...       ...        ...        ...   \n",
       "2023-02-07  CA006158355  TORONTO CITY, ON CA   43.6667      -79.4      113.0   \n",
       "2023-02-08  CA006158355  TORONTO CITY, ON CA   43.6667      -79.4      113.0   \n",
       "2023-02-09  CA006158355  TORONTO CITY, ON CA   43.6667      -79.4      113.0   \n",
       "2023-02-10  CA006158355  TORONTO CITY, ON CA   43.6667      -79.4      113.0   \n",
       "2023-02-11  CA006158355  TORONTO CITY, ON CA   43.6667      -79.4      113.0   \n",
       "\n",
       "            PRCP  SNWD  TAVG  TMAX  TMIN  \n",
       "DATE                                      \n",
       "2002-06-04  0.19   NaN   NaN  57.0  48.0  \n",
       "2002-06-05  0.13   NaN   NaN  74.0  52.0  \n",
       "2002-06-06  0.00   NaN   NaN  64.0  55.0  \n",
       "2002-06-07  0.00   NaN   NaN  71.0  52.0  \n",
       "2002-06-08  0.00   NaN   NaN  77.0  53.0  \n",
       "...          ...   ...   ...   ...   ...  \n",
       "2023-02-07  0.00   2.0  40.0  48.0  32.0  \n",
       "2023-02-08  0.00   0.4  41.0  46.0  36.0  \n",
       "2023-02-09  1.11   NaN  40.0  45.0  36.0  \n",
       "2023-02-10  0.00   NaN  35.0  43.0  28.0  \n",
       "2023-02-11  0.00   0.0  31.0  36.0  25.0  \n",
       "\n",
       "[7520 rows x 10 columns]"
      ]
     },
     "execution_count": 1,
     "metadata": {},
     "output_type": "execute_result"
    }
   ],
   "source": [
    "import pandas as pd\n",
    "# taking date as index  for easy lookup\n",
    "df = pd.read_csv('weather.csv', index_col=\"DATE\") \n",
    "df"
   ]
  },
  {
   "cell_type": "raw",
   "id": "d3d6fc86",
   "metadata": {},
   "source": []
  },
  {
   "cell_type": "markdown",
   "id": "23de3bd6",
   "metadata": {},
   "source": [
    "checking how much percentage is empty"
   ]
  },
  {
   "cell_type": "code",
   "execution_count": 2,
   "id": "6c2b06ad",
   "metadata": {
    "scrolled": false
   },
   "outputs": [
    {
     "data": {
      "text/plain": [
       "STATION       0.000000\n",
       "NAME          0.000000\n",
       "LATITUDE      0.000000\n",
       "LONGITUDE     0.000000\n",
       "ELEVATION     0.000000\n",
       "PRCP          2.087766\n",
       "SNWD         66.808511\n",
       "TAVG         11.156915\n",
       "TMAX          1.196809\n",
       "TMIN          1.077128\n",
       "dtype: float64"
      ]
     },
     "execution_count": 2,
     "metadata": {},
     "output_type": "execute_result"
    }
   ],
   "source": [
    "df.apply(pd.isnull).sum()/df.shape[0]*100 "
   ]
  },
  {
   "cell_type": "raw",
   "id": "21530438",
   "metadata": {},
   "source": [
    "PRCP = Precipitation (mm or inches as per user preference, inches to hundredths on Daily Form pdf file)\n",
    "SNOW = Snowfall (mm or inches as per user preference, inches to tenths on Daily Form pdf file)\n",
    "SNWD = Snow depth (mm or inches as per user preference, inches on Daily Form pdf file)\n",
    "TMAX = Maximum temperature (Fahrenheit or Celsius as per user preference, Fahrenheit to tenths on Daily Form pdf file\n",
    "TMIN = Minimum temperature (Fahrenheit or Celsius as per user preference, Fahrenheit to tenths on Daily Form pdf file"
   ]
  },
  {
   "cell_type": "code",
   "execution_count": null,
   "id": "8408fba2",
   "metadata": {},
   "outputs": [],
   "source": []
  },
  {
   "cell_type": "markdown",
   "id": "dede2432",
   "metadata": {},
   "source": [
    "Taking the columns that are only required"
   ]
  },
  {
   "cell_type": "code",
   "execution_count": 3,
   "id": "c491ead9",
   "metadata": {},
   "outputs": [],
   "source": [
    "df_=df[['PRCP','SNWD','TMAX','TMIN']]"
   ]
  },
  {
   "cell_type": "code",
   "execution_count": null,
   "id": "c2d93660",
   "metadata": {},
   "outputs": [],
   "source": []
  },
  {
   "cell_type": "markdown",
   "id": "b4c26e3d",
   "metadata": {},
   "source": [
    "Checking wheather we have any funny values as instructued in the document(page-3)"
   ]
  },
  {
   "cell_type": "code",
   "execution_count": 4,
   "id": "1602ae11",
   "metadata": {},
   "outputs": [
    {
     "data": {
      "text/html": [
       "<div>\n",
       "<style scoped>\n",
       "    .dataframe tbody tr th:only-of-type {\n",
       "        vertical-align: middle;\n",
       "    }\n",
       "\n",
       "    .dataframe tbody tr th {\n",
       "        vertical-align: top;\n",
       "    }\n",
       "\n",
       "    .dataframe thead th {\n",
       "        text-align: right;\n",
       "    }\n",
       "</style>\n",
       "<table border=\"1\" class=\"dataframe\">\n",
       "  <thead>\n",
       "    <tr style=\"text-align: right;\">\n",
       "      <th></th>\n",
       "      <th>PRCP</th>\n",
       "      <th>SNWD</th>\n",
       "      <th>TMAX</th>\n",
       "      <th>TMIN</th>\n",
       "    </tr>\n",
       "    <tr>\n",
       "      <th>DATE</th>\n",
       "      <th></th>\n",
       "      <th></th>\n",
       "      <th></th>\n",
       "      <th></th>\n",
       "    </tr>\n",
       "  </thead>\n",
       "  <tbody>\n",
       "  </tbody>\n",
       "</table>\n",
       "</div>"
      ],
      "text/plain": [
       "Empty DataFrame\n",
       "Columns: [PRCP, SNWD, TMAX, TMIN]\n",
       "Index: []"
      ]
     },
     "execution_count": 4,
     "metadata": {},
     "output_type": "execute_result"
    }
   ],
   "source": [
    "df_[df_['TMIN']==9999]"
   ]
  },
  {
   "cell_type": "code",
   "execution_count": 5,
   "id": "41c0a062",
   "metadata": {},
   "outputs": [
    {
     "data": {
      "text/html": [
       "<div>\n",
       "<style scoped>\n",
       "    .dataframe tbody tr th:only-of-type {\n",
       "        vertical-align: middle;\n",
       "    }\n",
       "\n",
       "    .dataframe tbody tr th {\n",
       "        vertical-align: top;\n",
       "    }\n",
       "\n",
       "    .dataframe thead th {\n",
       "        text-align: right;\n",
       "    }\n",
       "</style>\n",
       "<table border=\"1\" class=\"dataframe\">\n",
       "  <thead>\n",
       "    <tr style=\"text-align: right;\">\n",
       "      <th></th>\n",
       "      <th>PRCP</th>\n",
       "      <th>SNWD</th>\n",
       "      <th>TMAX</th>\n",
       "      <th>TMIN</th>\n",
       "    </tr>\n",
       "    <tr>\n",
       "      <th>DATE</th>\n",
       "      <th></th>\n",
       "      <th></th>\n",
       "      <th></th>\n",
       "      <th></th>\n",
       "    </tr>\n",
       "  </thead>\n",
       "  <tbody>\n",
       "  </tbody>\n",
       "</table>\n",
       "</div>"
      ],
      "text/plain": [
       "Empty DataFrame\n",
       "Columns: [PRCP, SNWD, TMAX, TMIN]\n",
       "Index: []"
      ]
     },
     "execution_count": 5,
     "metadata": {},
     "output_type": "execute_result"
    }
   ],
   "source": [
    "df_[df_['TMAX']==9999]"
   ]
  },
  {
   "cell_type": "code",
   "execution_count": 6,
   "id": "ed85f7b3",
   "metadata": {},
   "outputs": [
    {
     "data": {
      "text/html": [
       "<div>\n",
       "<style scoped>\n",
       "    .dataframe tbody tr th:only-of-type {\n",
       "        vertical-align: middle;\n",
       "    }\n",
       "\n",
       "    .dataframe tbody tr th {\n",
       "        vertical-align: top;\n",
       "    }\n",
       "\n",
       "    .dataframe thead th {\n",
       "        text-align: right;\n",
       "    }\n",
       "</style>\n",
       "<table border=\"1\" class=\"dataframe\">\n",
       "  <thead>\n",
       "    <tr style=\"text-align: right;\">\n",
       "      <th></th>\n",
       "      <th>PRCP</th>\n",
       "      <th>SNWD</th>\n",
       "      <th>TMAX</th>\n",
       "      <th>TMIN</th>\n",
       "    </tr>\n",
       "    <tr>\n",
       "      <th>DATE</th>\n",
       "      <th></th>\n",
       "      <th></th>\n",
       "      <th></th>\n",
       "      <th></th>\n",
       "    </tr>\n",
       "  </thead>\n",
       "  <tbody>\n",
       "  </tbody>\n",
       "</table>\n",
       "</div>"
      ],
      "text/plain": [
       "Empty DataFrame\n",
       "Columns: [PRCP, SNWD, TMAX, TMIN]\n",
       "Index: []"
      ]
     },
     "execution_count": 6,
     "metadata": {},
     "output_type": "execute_result"
    }
   ],
   "source": [
    "df_[df_['PRCP']==9999]"
   ]
  },
  {
   "cell_type": "code",
   "execution_count": 7,
   "id": "952931c2",
   "metadata": {},
   "outputs": [
    {
     "data": {
      "text/html": [
       "<div>\n",
       "<style scoped>\n",
       "    .dataframe tbody tr th:only-of-type {\n",
       "        vertical-align: middle;\n",
       "    }\n",
       "\n",
       "    .dataframe tbody tr th {\n",
       "        vertical-align: top;\n",
       "    }\n",
       "\n",
       "    .dataframe thead th {\n",
       "        text-align: right;\n",
       "    }\n",
       "</style>\n",
       "<table border=\"1\" class=\"dataframe\">\n",
       "  <thead>\n",
       "    <tr style=\"text-align: right;\">\n",
       "      <th></th>\n",
       "      <th>PRCP</th>\n",
       "      <th>SNWD</th>\n",
       "      <th>TMAX</th>\n",
       "      <th>TMIN</th>\n",
       "    </tr>\n",
       "    <tr>\n",
       "      <th>DATE</th>\n",
       "      <th></th>\n",
       "      <th></th>\n",
       "      <th></th>\n",
       "      <th></th>\n",
       "    </tr>\n",
       "  </thead>\n",
       "  <tbody>\n",
       "  </tbody>\n",
       "</table>\n",
       "</div>"
      ],
      "text/plain": [
       "Empty DataFrame\n",
       "Columns: [PRCP, SNWD, TMAX, TMIN]\n",
       "Index: []"
      ]
     },
     "execution_count": 7,
     "metadata": {},
     "output_type": "execute_result"
    }
   ],
   "source": [
    "df_[df_['SNWD']==9999]"
   ]
  },
  {
   "cell_type": "code",
   "execution_count": null,
   "id": "0d9d2486",
   "metadata": {},
   "outputs": [],
   "source": []
  },
  {
   "cell_type": "markdown",
   "id": "6a991bc1",
   "metadata": {},
   "source": [
    "filling the empty rows with zero"
   ]
  },
  {
   "cell_type": "code",
   "execution_count": 8,
   "id": "68af4e97",
   "metadata": {},
   "outputs": [
    {
     "name": "stderr",
     "output_type": "stream",
     "text": [
      "C:\\Users\\jibin\\AppData\\Local\\Temp\\ipykernel_7036\\816914668.py:1: SettingWithCopyWarning: \n",
      "A value is trying to be set on a copy of a slice from a DataFrame.\n",
      "Try using .loc[row_indexer,col_indexer] = value instead\n",
      "\n",
      "See the caveats in the documentation: https://pandas.pydata.org/pandas-docs/stable/user_guide/indexing.html#returning-a-view-versus-a-copy\n",
      "  df_['PRCP']=df_['PRCP'].fillna(0) #filling the empty rows with zero\n"
     ]
    }
   ],
   "source": [
    "df_['PRCP']=df_['PRCP'].fillna(0) "
   ]
  },
  {
   "cell_type": "code",
   "execution_count": 9,
   "id": "10004d03",
   "metadata": {},
   "outputs": [
    {
     "name": "stderr",
     "output_type": "stream",
     "text": [
      "C:\\Users\\jibin\\AppData\\Local\\Temp\\ipykernel_7036\\1562736570.py:1: SettingWithCopyWarning: \n",
      "A value is trying to be set on a copy of a slice from a DataFrame.\n",
      "Try using .loc[row_indexer,col_indexer] = value instead\n",
      "\n",
      "See the caveats in the documentation: https://pandas.pydata.org/pandas-docs/stable/user_guide/indexing.html#returning-a-view-versus-a-copy\n",
      "  df_['SNWD']=df_['SNWD'].fillna(0)\n"
     ]
    }
   ],
   "source": [
    "df_['SNWD']=df_['SNWD'].fillna(0)"
   ]
  },
  {
   "cell_type": "code",
   "execution_count": null,
   "id": "e6f05419",
   "metadata": {},
   "outputs": [],
   "source": []
  },
  {
   "cell_type": "markdown",
   "id": "e1451f07",
   "metadata": {},
   "source": [
    "interpolating means taking the average of the previous day and the next day"
   ]
  },
  {
   "cell_type": "code",
   "execution_count": 10,
   "id": "951c36cd",
   "metadata": {
    "scrolled": true
   },
   "outputs": [
    {
     "name": "stderr",
     "output_type": "stream",
     "text": [
      "C:\\Users\\jibin\\AppData\\Local\\Temp\\ipykernel_7036\\3081799623.py:1: SettingWithCopyWarning: \n",
      "A value is trying to be set on a copy of a slice from a DataFrame.\n",
      "Try using .loc[row_indexer,col_indexer] = value instead\n",
      "\n",
      "See the caveats in the documentation: https://pandas.pydata.org/pandas-docs/stable/user_guide/indexing.html#returning-a-view-versus-a-copy\n",
      "  df_['TMAX']=df_['TMAX'].interpolate() #interpolating means taking the average of the previous day and the next day\n"
     ]
    }
   ],
   "source": [
    "df_['TMAX']=df_['TMAX'].interpolate() "
   ]
  },
  {
   "cell_type": "code",
   "execution_count": 11,
   "id": "254b3e5c",
   "metadata": {},
   "outputs": [
    {
     "name": "stderr",
     "output_type": "stream",
     "text": [
      "C:\\Users\\jibin\\AppData\\Local\\Temp\\ipykernel_7036\\2754921492.py:1: SettingWithCopyWarning: \n",
      "A value is trying to be set on a copy of a slice from a DataFrame.\n",
      "Try using .loc[row_indexer,col_indexer] = value instead\n",
      "\n",
      "See the caveats in the documentation: https://pandas.pydata.org/pandas-docs/stable/user_guide/indexing.html#returning-a-view-versus-a-copy\n",
      "  df_['TMIN']=df_['TMIN'].interpolate()\n"
     ]
    }
   ],
   "source": [
    "df_['TMIN']=df_['TMIN'].interpolate()"
   ]
  },
  {
   "cell_type": "code",
   "execution_count": null,
   "id": "6664b3bf",
   "metadata": {},
   "outputs": [],
   "source": []
  },
  {
   "cell_type": "markdown",
   "id": "d28bfd46",
   "metadata": {},
   "source": [
    "creating a list of maximum and minimum temp, and from the list we're taking the average of the temps"
   ]
  },
  {
   "cell_type": "code",
   "execution_count": 12,
   "id": "1a462411",
   "metadata": {
    "scrolled": true
   },
   "outputs": [
    {
     "name": "stderr",
     "output_type": "stream",
     "text": [
      "C:\\Users\\jibin\\AppData\\Local\\Temp\\ipykernel_7036\\2552913516.py:2: SettingWithCopyWarning: \n",
      "A value is trying to be set on a copy of a slice from a DataFrame.\n",
      "Try using .loc[row_indexer,col_indexer] = value instead\n",
      "\n",
      "See the caveats in the documentation: https://pandas.pydata.org/pandas-docs/stable/user_guide/indexing.html#returning-a-view-versus-a-copy\n",
      "  df_['TAvg']=df[df_list].mean(axis='columns') # from the above list we're taking the average of the temps\n"
     ]
    }
   ],
   "source": [
    "df_list=['TMAX','TMIN'] \n",
    "df_['TAvg']=df[df_list].mean(axis='columns') "
   ]
  },
  {
   "cell_type": "code",
   "execution_count": null,
   "id": "f06ae7bd",
   "metadata": {},
   "outputs": [],
   "source": []
  },
  {
   "cell_type": "markdown",
   "id": "7a0a764f",
   "metadata": {},
   "source": [
    "checking whether we have any null values in the dataset"
   ]
  },
  {
   "cell_type": "code",
   "execution_count": 13,
   "id": "ac817d39",
   "metadata": {
    "scrolled": true
   },
   "outputs": [
    {
     "data": {
      "text/plain": [
       "PRCP    0.00000\n",
       "SNWD    0.00000\n",
       "TMAX    0.00000\n",
       "TMIN    0.00000\n",
       "TAvg    0.00891\n",
       "dtype: float64"
      ]
     },
     "execution_count": 13,
     "metadata": {},
     "output_type": "execute_result"
    }
   ],
   "source": [
    "df_.apply(pd.isnull).sum()/df_.shape[0] "
   ]
  },
  {
   "cell_type": "code",
   "execution_count": 14,
   "id": "945af84b",
   "metadata": {},
   "outputs": [
    {
     "data": {
      "text/plain": [
       "67"
      ]
     },
     "execution_count": 14,
     "metadata": {},
     "output_type": "execute_result"
    }
   ],
   "source": [
    "df_['TAvg'].isnull().sum() "
   ]
  },
  {
   "cell_type": "code",
   "execution_count": 15,
   "id": "f23b4631",
   "metadata": {},
   "outputs": [
    {
     "data": {
      "text/plain": [
       "PRCP     0\n",
       "SNWD     0\n",
       "TMAX     0\n",
       "TMIN     0\n",
       "TAvg    67\n",
       "dtype: int64"
      ]
     },
     "execution_count": 15,
     "metadata": {},
     "output_type": "execute_result"
    }
   ],
   "source": [
    "df_.isnull().sum()"
   ]
  },
  {
   "cell_type": "code",
   "execution_count": null,
   "id": "4cad3dd8",
   "metadata": {},
   "outputs": [],
   "source": []
  },
  {
   "cell_type": "markdown",
   "id": "63338405",
   "metadata": {},
   "source": [
    "Again filling the empty rows using forwardfill method"
   ]
  },
  {
   "cell_type": "code",
   "execution_count": 16,
   "id": "53af16be",
   "metadata": {
    "scrolled": true
   },
   "outputs": [
    {
     "name": "stderr",
     "output_type": "stream",
     "text": [
      "C:\\Users\\jibin\\AppData\\Local\\Temp\\ipykernel_7036\\2310665769.py:1: SettingWithCopyWarning: \n",
      "A value is trying to be set on a copy of a slice from a DataFrame.\n",
      "Try using .loc[row_indexer,col_indexer] = value instead\n",
      "\n",
      "See the caveats in the documentation: https://pandas.pydata.org/pandas-docs/stable/user_guide/indexing.html#returning-a-view-versus-a-copy\n",
      "  df_['TAvg']=df_['TAvg'].fillna(method='ffill') #again filling the empty rows using forwardfill method\n"
     ]
    }
   ],
   "source": [
    "df_['TAvg']=df_['TAvg'].fillna(method='ffill') "
   ]
  },
  {
   "cell_type": "code",
   "execution_count": null,
   "id": "9ec8334a",
   "metadata": {},
   "outputs": [],
   "source": []
  },
  {
   "cell_type": "markdown",
   "id": "2a577668",
   "metadata": {},
   "source": [
    "To check how much percentage of the dataset is filled \n"
   ]
  },
  {
   "cell_type": "code",
   "execution_count": 17,
   "id": "a2bea1d7",
   "metadata": {},
   "outputs": [
    {
     "data": {
      "text/html": [
       "<div>\n",
       "<style scoped>\n",
       "    .dataframe tbody tr th:only-of-type {\n",
       "        vertical-align: middle;\n",
       "    }\n",
       "\n",
       "    .dataframe tbody tr th {\n",
       "        vertical-align: top;\n",
       "    }\n",
       "\n",
       "    .dataframe thead th {\n",
       "        text-align: right;\n",
       "    }\n",
       "</style>\n",
       "<table border=\"1\" class=\"dataframe\">\n",
       "  <thead>\n",
       "    <tr style=\"text-align: right;\">\n",
       "      <th></th>\n",
       "      <th>variable</th>\n",
       "      <th>missing values</th>\n",
       "      <th>filled factor (%)</th>\n",
       "    </tr>\n",
       "  </thead>\n",
       "  <tbody>\n",
       "    <tr>\n",
       "      <th>0</th>\n",
       "      <td>PRCP</td>\n",
       "      <td>0</td>\n",
       "      <td>100.0</td>\n",
       "    </tr>\n",
       "    <tr>\n",
       "      <th>1</th>\n",
       "      <td>SNWD</td>\n",
       "      <td>0</td>\n",
       "      <td>100.0</td>\n",
       "    </tr>\n",
       "    <tr>\n",
       "      <th>2</th>\n",
       "      <td>TMAX</td>\n",
       "      <td>0</td>\n",
       "      <td>100.0</td>\n",
       "    </tr>\n",
       "    <tr>\n",
       "      <th>3</th>\n",
       "      <td>TMIN</td>\n",
       "      <td>0</td>\n",
       "      <td>100.0</td>\n",
       "    </tr>\n",
       "    <tr>\n",
       "      <th>4</th>\n",
       "      <td>TAvg</td>\n",
       "      <td>0</td>\n",
       "      <td>100.0</td>\n",
       "    </tr>\n",
       "  </tbody>\n",
       "</table>\n",
       "</div>"
      ],
      "text/plain": [
       "  variable  missing values  filled factor (%)\n",
       "0     PRCP               0              100.0\n",
       "1     SNWD               0              100.0\n",
       "2     TMAX               0              100.0\n",
       "3     TMIN               0              100.0\n",
       "4     TAvg               0              100.0"
      ]
     },
     "execution_count": 17,
     "metadata": {},
     "output_type": "execute_result"
    }
   ],
   "source": [
    "missing_df = df_.isnull().sum(axis=0).reset_index()\n",
    "missing_df.columns = ['variable', 'missing values']\n",
    "missing_df['filled factor (%)']=(df_.shape[0]-missing_df['missing values'])/df_.shape[0]*100\n",
    "missing_df.sort_values('filled factor (%)').reset_index(drop = True)"
   ]
  },
  {
   "cell_type": "code",
   "execution_count": 40,
   "id": "c5f70155",
   "metadata": {},
   "outputs": [
    {
     "data": {
      "text/html": [
       "<div>\n",
       "<style scoped>\n",
       "    .dataframe tbody tr th:only-of-type {\n",
       "        vertical-align: middle;\n",
       "    }\n",
       "\n",
       "    .dataframe tbody tr th {\n",
       "        vertical-align: top;\n",
       "    }\n",
       "\n",
       "    .dataframe thead th {\n",
       "        text-align: right;\n",
       "    }\n",
       "</style>\n",
       "<table border=\"1\" class=\"dataframe\">\n",
       "  <thead>\n",
       "    <tr style=\"text-align: right;\">\n",
       "      <th></th>\n",
       "      <th>PRCP</th>\n",
       "      <th>SNWD</th>\n",
       "      <th>TMAX</th>\n",
       "      <th>TMIN</th>\n",
       "      <th>TAvg</th>\n",
       "      <th>target_tavg</th>\n",
       "    </tr>\n",
       "    <tr>\n",
       "      <th>DATE</th>\n",
       "      <th></th>\n",
       "      <th></th>\n",
       "      <th></th>\n",
       "      <th></th>\n",
       "      <th></th>\n",
       "      <th></th>\n",
       "    </tr>\n",
       "  </thead>\n",
       "  <tbody>\n",
       "    <tr>\n",
       "      <th>2002-06-04</th>\n",
       "      <td>0.19</td>\n",
       "      <td>0.0</td>\n",
       "      <td>57.0</td>\n",
       "      <td>48.0</td>\n",
       "      <td>52.5</td>\n",
       "      <td>63.0</td>\n",
       "    </tr>\n",
       "    <tr>\n",
       "      <th>2002-06-05</th>\n",
       "      <td>0.13</td>\n",
       "      <td>0.0</td>\n",
       "      <td>74.0</td>\n",
       "      <td>52.0</td>\n",
       "      <td>63.0</td>\n",
       "      <td>59.5</td>\n",
       "    </tr>\n",
       "    <tr>\n",
       "      <th>2002-06-06</th>\n",
       "      <td>0.00</td>\n",
       "      <td>0.0</td>\n",
       "      <td>64.0</td>\n",
       "      <td>55.0</td>\n",
       "      <td>59.5</td>\n",
       "      <td>61.5</td>\n",
       "    </tr>\n",
       "    <tr>\n",
       "      <th>2002-06-07</th>\n",
       "      <td>0.00</td>\n",
       "      <td>0.0</td>\n",
       "      <td>71.0</td>\n",
       "      <td>52.0</td>\n",
       "      <td>61.5</td>\n",
       "      <td>65.0</td>\n",
       "    </tr>\n",
       "    <tr>\n",
       "      <th>2002-06-08</th>\n",
       "      <td>0.00</td>\n",
       "      <td>0.0</td>\n",
       "      <td>77.0</td>\n",
       "      <td>53.0</td>\n",
       "      <td>65.0</td>\n",
       "      <td>73.5</td>\n",
       "    </tr>\n",
       "    <tr>\n",
       "      <th>...</th>\n",
       "      <td>...</td>\n",
       "      <td>...</td>\n",
       "      <td>...</td>\n",
       "      <td>...</td>\n",
       "      <td>...</td>\n",
       "      <td>...</td>\n",
       "    </tr>\n",
       "    <tr>\n",
       "      <th>2023-02-06</th>\n",
       "      <td>0.00</td>\n",
       "      <td>2.4</td>\n",
       "      <td>38.0</td>\n",
       "      <td>28.0</td>\n",
       "      <td>33.0</td>\n",
       "      <td>40.0</td>\n",
       "    </tr>\n",
       "    <tr>\n",
       "      <th>2023-02-07</th>\n",
       "      <td>0.00</td>\n",
       "      <td>2.0</td>\n",
       "      <td>48.0</td>\n",
       "      <td>32.0</td>\n",
       "      <td>40.0</td>\n",
       "      <td>41.0</td>\n",
       "    </tr>\n",
       "    <tr>\n",
       "      <th>2023-02-08</th>\n",
       "      <td>0.00</td>\n",
       "      <td>0.4</td>\n",
       "      <td>46.0</td>\n",
       "      <td>36.0</td>\n",
       "      <td>41.0</td>\n",
       "      <td>40.5</td>\n",
       "    </tr>\n",
       "    <tr>\n",
       "      <th>2023-02-09</th>\n",
       "      <td>1.11</td>\n",
       "      <td>0.0</td>\n",
       "      <td>45.0</td>\n",
       "      <td>36.0</td>\n",
       "      <td>40.5</td>\n",
       "      <td>35.5</td>\n",
       "    </tr>\n",
       "    <tr>\n",
       "      <th>2023-02-10</th>\n",
       "      <td>0.00</td>\n",
       "      <td>0.0</td>\n",
       "      <td>43.0</td>\n",
       "      <td>28.0</td>\n",
       "      <td>35.5</td>\n",
       "      <td>30.5</td>\n",
       "    </tr>\n",
       "  </tbody>\n",
       "</table>\n",
       "<p>7519 rows × 6 columns</p>\n",
       "</div>"
      ],
      "text/plain": [
       "            PRCP  SNWD  TMAX  TMIN  TAvg  target_tavg\n",
       "DATE                                                 \n",
       "2002-06-04  0.19   0.0  57.0  48.0  52.5         63.0\n",
       "2002-06-05  0.13   0.0  74.0  52.0  63.0         59.5\n",
       "2002-06-06  0.00   0.0  64.0  55.0  59.5         61.5\n",
       "2002-06-07  0.00   0.0  71.0  52.0  61.5         65.0\n",
       "2002-06-08  0.00   0.0  77.0  53.0  65.0         73.5\n",
       "...          ...   ...   ...   ...   ...          ...\n",
       "2023-02-06  0.00   2.4  38.0  28.0  33.0         40.0\n",
       "2023-02-07  0.00   2.0  48.0  32.0  40.0         41.0\n",
       "2023-02-08  0.00   0.4  46.0  36.0  41.0         40.5\n",
       "2023-02-09  1.11   0.0  45.0  36.0  40.5         35.5\n",
       "2023-02-10  0.00   0.0  43.0  28.0  35.5         30.5\n",
       "\n",
       "[7519 rows x 6 columns]"
      ]
     },
     "execution_count": 40,
     "metadata": {},
     "output_type": "execute_result"
    }
   ],
   "source": [
    "df_"
   ]
  },
  {
   "cell_type": "code",
   "execution_count": null,
   "id": "4992269c",
   "metadata": {},
   "outputs": [],
   "source": []
  },
  {
   "cell_type": "markdown",
   "id": "b3a89afb",
   "metadata": {},
   "source": [
    "converting the index into datetime datatype "
   ]
  },
  {
   "cell_type": "code",
   "execution_count": 18,
   "id": "7cb97b36",
   "metadata": {
    "scrolled": false
   },
   "outputs": [
    {
     "data": {
      "text/plain": [
       "Index(['2002-06-04', '2002-06-05', '2002-06-06', '2002-06-07', '2002-06-08',\n",
       "       '2002-06-09', '2002-06-10', '2002-06-11', '2002-06-12', '2002-06-13',\n",
       "       ...\n",
       "       '2023-02-02', '2023-02-03', '2023-02-04', '2023-02-05', '2023-02-06',\n",
       "       '2023-02-07', '2023-02-08', '2023-02-09', '2023-02-10', '2023-02-11'],\n",
       "      dtype='object', name='DATE', length=7520)"
      ]
     },
     "execution_count": 18,
     "metadata": {},
     "output_type": "execute_result"
    }
   ],
   "source": [
    "df_.index"
   ]
  },
  {
   "cell_type": "code",
   "execution_count": 19,
   "id": "e3ed4dc5",
   "metadata": {},
   "outputs": [],
   "source": [
    "df_.index=pd.to_datetime(df_.index) "
   ]
  },
  {
   "cell_type": "code",
   "execution_count": 20,
   "id": "e198254b",
   "metadata": {},
   "outputs": [
    {
     "data": {
      "text/plain": [
       "DatetimeIndex(['2002-06-04', '2002-06-05', '2002-06-06', '2002-06-07',\n",
       "               '2002-06-08', '2002-06-09', '2002-06-10', '2002-06-11',\n",
       "               '2002-06-12', '2002-06-13',\n",
       "               ...\n",
       "               '2023-02-02', '2023-02-03', '2023-02-04', '2023-02-05',\n",
       "               '2023-02-06', '2023-02-07', '2023-02-08', '2023-02-09',\n",
       "               '2023-02-10', '2023-02-11'],\n",
       "              dtype='datetime64[ns]', name='DATE', length=7520, freq=None)"
      ]
     },
     "execution_count": 20,
     "metadata": {},
     "output_type": "execute_result"
    }
   ],
   "source": [
    "df_.index"
   ]
  },
  {
   "cell_type": "code",
   "execution_count": 21,
   "id": "690f1ce5",
   "metadata": {},
   "outputs": [
    {
     "data": {
      "text/plain": [
       "Int64Index([2002, 2002, 2002, 2002, 2002, 2002, 2002, 2002, 2002, 2002,\n",
       "            ...\n",
       "            2023, 2023, 2023, 2023, 2023, 2023, 2023, 2023, 2023, 2023],\n",
       "           dtype='int64', name='DATE', length=7520)"
      ]
     },
     "execution_count": 21,
     "metadata": {},
     "output_type": "execute_result"
    }
   ],
   "source": [
    "df_.index.year"
   ]
  },
  {
   "cell_type": "code",
   "execution_count": null,
   "id": "cd927259",
   "metadata": {},
   "outputs": [],
   "source": []
  },
  {
   "cell_type": "markdown",
   "id": "ec5545ed",
   "metadata": {},
   "source": [
    "Checking wheather we're missing any values"
   ]
  },
  {
   "cell_type": "code",
   "execution_count": 22,
   "id": "10051849",
   "metadata": {},
   "outputs": [
    {
     "data": {
      "text/plain": [
       "<AxesSubplot:xlabel='DATE'>"
      ]
     },
     "execution_count": 22,
     "metadata": {},
     "output_type": "execute_result"
    },
    {
     "data": {
      "image/png": "[encoded data removed]",
      "text/plain": [
       "<Figure size 640x480 with 1 Axes>"
      ]
     },
     "metadata": {},
     "output_type": "display_data"
    }
   ],
   "source": [
    "import matplotlib.pyplot as plt\n",
    "df_[['TMAX','TMIN']].plot()\n"
   ]
  },
  {
   "cell_type": "code",
   "execution_count": 23,
   "id": "f9eae9e0",
   "metadata": {},
   "outputs": [
    {
     "data": {
      "text/plain": [
       "<AxesSubplot:xlabel='DATE'>"
      ]
     },
     "execution_count": 23,
     "metadata": {},
     "output_type": "execute_result"
    },
    {
     "data": {
      "image/png": "[encoded data removed]",
      "text/plain": [
       "<Figure size 640x480 with 1 Axes>"
      ]
     },
     "metadata": {},
     "output_type": "display_data"
    }
   ],
   "source": [
    "df_[['TAvg']].plot()"
   ]
  },
  {
   "cell_type": "code",
   "execution_count": null,
   "id": "a18b3f82",
   "metadata": {},
   "outputs": [],
   "source": []
  },
  {
   "cell_type": "markdown",
   "id": "f0cd4b6b",
   "metadata": {},
   "source": [
    "predicting tommorow's avgerage temp the shift(-1) pull every row back by one position"
   ]
  },
  {
   "cell_type": "code",
   "execution_count": 24,
   "id": "0bf20cd4",
   "metadata": {
    "scrolled": true
   },
   "outputs": [
    {
     "name": "stderr",
     "output_type": "stream",
     "text": [
      "C:\\Users\\jibin\\AppData\\Local\\Temp\\ipykernel_7036\\1644298594.py:1: SettingWithCopyWarning: \n",
      "A value is trying to be set on a copy of a slice from a DataFrame.\n",
      "Try using .loc[row_indexer,col_indexer] = value instead\n",
      "\n",
      "See the caveats in the documentation: https://pandas.pydata.org/pandas-docs/stable/user_guide/indexing.html#returning-a-view-versus-a-copy\n",
      "  df_['target_tavg']=df_.shift(-1)[\"TAvg\"] #predicting tommorow's avgerage temp the shift(-1) pull every row back by one position\n"
     ]
    }
   ],
   "source": [
    "df_['target_tavg']=df_.shift(-1)[\"TAvg\"] "
   ]
  },
  {
   "cell_type": "code",
   "execution_count": 25,
   "id": "360d0581",
   "metadata": {},
   "outputs": [
    {
     "data": {
      "text/html": [
       "<div>\n",
       "<style scoped>\n",
       "    .dataframe tbody tr th:only-of-type {\n",
       "        vertical-align: middle;\n",
       "    }\n",
       "\n",
       "    .dataframe tbody tr th {\n",
       "        vertical-align: top;\n",
       "    }\n",
       "\n",
       "    .dataframe thead th {\n",
       "        text-align: right;\n",
       "    }\n",
       "</style>\n",
       "<table border=\"1\" class=\"dataframe\">\n",
       "  <thead>\n",
       "    <tr style=\"text-align: right;\">\n",
       "      <th></th>\n",
       "      <th>PRCP</th>\n",
       "      <th>SNWD</th>\n",
       "      <th>TMAX</th>\n",
       "      <th>TMIN</th>\n",
       "      <th>TAvg</th>\n",
       "      <th>target_tavg</th>\n",
       "    </tr>\n",
       "    <tr>\n",
       "      <th>DATE</th>\n",
       "      <th></th>\n",
       "      <th></th>\n",
       "      <th></th>\n",
       "      <th></th>\n",
       "      <th></th>\n",
       "      <th></th>\n",
       "    </tr>\n",
       "  </thead>\n",
       "  <tbody>\n",
       "    <tr>\n",
       "      <th>2002-06-04</th>\n",
       "      <td>0.19</td>\n",
       "      <td>0.0</td>\n",
       "      <td>57.0</td>\n",
       "      <td>48.0</td>\n",
       "      <td>52.5</td>\n",
       "      <td>63.0</td>\n",
       "    </tr>\n",
       "    <tr>\n",
       "      <th>2002-06-05</th>\n",
       "      <td>0.13</td>\n",
       "      <td>0.0</td>\n",
       "      <td>74.0</td>\n",
       "      <td>52.0</td>\n",
       "      <td>63.0</td>\n",
       "      <td>59.5</td>\n",
       "    </tr>\n",
       "    <tr>\n",
       "      <th>2002-06-06</th>\n",
       "      <td>0.00</td>\n",
       "      <td>0.0</td>\n",
       "      <td>64.0</td>\n",
       "      <td>55.0</td>\n",
       "      <td>59.5</td>\n",
       "      <td>61.5</td>\n",
       "    </tr>\n",
       "    <tr>\n",
       "      <th>2002-06-07</th>\n",
       "      <td>0.00</td>\n",
       "      <td>0.0</td>\n",
       "      <td>71.0</td>\n",
       "      <td>52.0</td>\n",
       "      <td>61.5</td>\n",
       "      <td>65.0</td>\n",
       "    </tr>\n",
       "    <tr>\n",
       "      <th>2002-06-08</th>\n",
       "      <td>0.00</td>\n",
       "      <td>0.0</td>\n",
       "      <td>77.0</td>\n",
       "      <td>53.0</td>\n",
       "      <td>65.0</td>\n",
       "      <td>73.5</td>\n",
       "    </tr>\n",
       "    <tr>\n",
       "      <th>...</th>\n",
       "      <td>...</td>\n",
       "      <td>...</td>\n",
       "      <td>...</td>\n",
       "      <td>...</td>\n",
       "      <td>...</td>\n",
       "      <td>...</td>\n",
       "    </tr>\n",
       "    <tr>\n",
       "      <th>2023-02-07</th>\n",
       "      <td>0.00</td>\n",
       "      <td>2.0</td>\n",
       "      <td>48.0</td>\n",
       "      <td>32.0</td>\n",
       "      <td>40.0</td>\n",
       "      <td>41.0</td>\n",
       "    </tr>\n",
       "    <tr>\n",
       "      <th>2023-02-08</th>\n",
       "      <td>0.00</td>\n",
       "      <td>0.4</td>\n",
       "      <td>46.0</td>\n",
       "      <td>36.0</td>\n",
       "      <td>41.0</td>\n",
       "      <td>40.5</td>\n",
       "    </tr>\n",
       "    <tr>\n",
       "      <th>2023-02-09</th>\n",
       "      <td>1.11</td>\n",
       "      <td>0.0</td>\n",
       "      <td>45.0</td>\n",
       "      <td>36.0</td>\n",
       "      <td>40.5</td>\n",
       "      <td>35.5</td>\n",
       "    </tr>\n",
       "    <tr>\n",
       "      <th>2023-02-10</th>\n",
       "      <td>0.00</td>\n",
       "      <td>0.0</td>\n",
       "      <td>43.0</td>\n",
       "      <td>28.0</td>\n",
       "      <td>35.5</td>\n",
       "      <td>30.5</td>\n",
       "    </tr>\n",
       "    <tr>\n",
       "      <th>2023-02-11</th>\n",
       "      <td>0.00</td>\n",
       "      <td>0.0</td>\n",
       "      <td>36.0</td>\n",
       "      <td>25.0</td>\n",
       "      <td>30.5</td>\n",
       "      <td>NaN</td>\n",
       "    </tr>\n",
       "  </tbody>\n",
       "</table>\n",
       "<p>7520 rows × 6 columns</p>\n",
       "</div>"
      ],
      "text/plain": [
       "            PRCP  SNWD  TMAX  TMIN  TAvg  target_tavg\n",
       "DATE                                                 \n",
       "2002-06-04  0.19   0.0  57.0  48.0  52.5         63.0\n",
       "2002-06-05  0.13   0.0  74.0  52.0  63.0         59.5\n",
       "2002-06-06  0.00   0.0  64.0  55.0  59.5         61.5\n",
       "2002-06-07  0.00   0.0  71.0  52.0  61.5         65.0\n",
       "2002-06-08  0.00   0.0  77.0  53.0  65.0         73.5\n",
       "...          ...   ...   ...   ...   ...          ...\n",
       "2023-02-07  0.00   2.0  48.0  32.0  40.0         41.0\n",
       "2023-02-08  0.00   0.4  46.0  36.0  41.0         40.5\n",
       "2023-02-09  1.11   0.0  45.0  36.0  40.5         35.5\n",
       "2023-02-10  0.00   0.0  43.0  28.0  35.5         30.5\n",
       "2023-02-11  0.00   0.0  36.0  25.0  30.5          NaN\n",
       "\n",
       "[7520 rows x 6 columns]"
      ]
     },
     "execution_count": 25,
     "metadata": {},
     "output_type": "execute_result"
    }
   ],
   "source": [
    "df_"
   ]
  },
  {
   "cell_type": "code",
   "execution_count": null,
   "id": "9d605ea5",
   "metadata": {},
   "outputs": [],
   "source": []
  },
  {
   "cell_type": "markdown",
   "id": "d1081d21",
   "metadata": {},
   "source": [
    "We're skipping the last column since machine learning model doesn't works with null values"
   ]
  },
  {
   "cell_type": "code",
   "execution_count": 26,
   "id": "ce66c55f",
   "metadata": {},
   "outputs": [],
   "source": [
    "df_=df_.iloc[:-1,:].copy() "
   ]
  },
  {
   "cell_type": "code",
   "execution_count": 27,
   "id": "75af53a6",
   "metadata": {},
   "outputs": [
    {
     "data": {
      "text/html": [
       "<div>\n",
       "<style scoped>\n",
       "    .dataframe tbody tr th:only-of-type {\n",
       "        vertical-align: middle;\n",
       "    }\n",
       "\n",
       "    .dataframe tbody tr th {\n",
       "        vertical-align: top;\n",
       "    }\n",
       "\n",
       "    .dataframe thead th {\n",
       "        text-align: right;\n",
       "    }\n",
       "</style>\n",
       "<table border=\"1\" class=\"dataframe\">\n",
       "  <thead>\n",
       "    <tr style=\"text-align: right;\">\n",
       "      <th></th>\n",
       "      <th>PRCP</th>\n",
       "      <th>SNWD</th>\n",
       "      <th>TMAX</th>\n",
       "      <th>TMIN</th>\n",
       "      <th>TAvg</th>\n",
       "      <th>target_tavg</th>\n",
       "    </tr>\n",
       "    <tr>\n",
       "      <th>DATE</th>\n",
       "      <th></th>\n",
       "      <th></th>\n",
       "      <th></th>\n",
       "      <th></th>\n",
       "      <th></th>\n",
       "      <th></th>\n",
       "    </tr>\n",
       "  </thead>\n",
       "  <tbody>\n",
       "    <tr>\n",
       "      <th>2002-06-04</th>\n",
       "      <td>0.19</td>\n",
       "      <td>0.0</td>\n",
       "      <td>57.0</td>\n",
       "      <td>48.0</td>\n",
       "      <td>52.5</td>\n",
       "      <td>63.0</td>\n",
       "    </tr>\n",
       "    <tr>\n",
       "      <th>2002-06-05</th>\n",
       "      <td>0.13</td>\n",
       "      <td>0.0</td>\n",
       "      <td>74.0</td>\n",
       "      <td>52.0</td>\n",
       "      <td>63.0</td>\n",
       "      <td>59.5</td>\n",
       "    </tr>\n",
       "    <tr>\n",
       "      <th>2002-06-06</th>\n",
       "      <td>0.00</td>\n",
       "      <td>0.0</td>\n",
       "      <td>64.0</td>\n",
       "      <td>55.0</td>\n",
       "      <td>59.5</td>\n",
       "      <td>61.5</td>\n",
       "    </tr>\n",
       "    <tr>\n",
       "      <th>2002-06-07</th>\n",
       "      <td>0.00</td>\n",
       "      <td>0.0</td>\n",
       "      <td>71.0</td>\n",
       "      <td>52.0</td>\n",
       "      <td>61.5</td>\n",
       "      <td>65.0</td>\n",
       "    </tr>\n",
       "    <tr>\n",
       "      <th>2002-06-08</th>\n",
       "      <td>0.00</td>\n",
       "      <td>0.0</td>\n",
       "      <td>77.0</td>\n",
       "      <td>53.0</td>\n",
       "      <td>65.0</td>\n",
       "      <td>73.5</td>\n",
       "    </tr>\n",
       "    <tr>\n",
       "      <th>...</th>\n",
       "      <td>...</td>\n",
       "      <td>...</td>\n",
       "      <td>...</td>\n",
       "      <td>...</td>\n",
       "      <td>...</td>\n",
       "      <td>...</td>\n",
       "    </tr>\n",
       "    <tr>\n",
       "      <th>2023-02-06</th>\n",
       "      <td>0.00</td>\n",
       "      <td>2.4</td>\n",
       "      <td>38.0</td>\n",
       "      <td>28.0</td>\n",
       "      <td>33.0</td>\n",
       "      <td>40.0</td>\n",
       "    </tr>\n",
       "    <tr>\n",
       "      <th>2023-02-07</th>\n",
       "      <td>0.00</td>\n",
       "      <td>2.0</td>\n",
       "      <td>48.0</td>\n",
       "      <td>32.0</td>\n",
       "      <td>40.0</td>\n",
       "      <td>41.0</td>\n",
       "    </tr>\n",
       "    <tr>\n",
       "      <th>2023-02-08</th>\n",
       "      <td>0.00</td>\n",
       "      <td>0.4</td>\n",
       "      <td>46.0</td>\n",
       "      <td>36.0</td>\n",
       "      <td>41.0</td>\n",
       "      <td>40.5</td>\n",
       "    </tr>\n",
       "    <tr>\n",
       "      <th>2023-02-09</th>\n",
       "      <td>1.11</td>\n",
       "      <td>0.0</td>\n",
       "      <td>45.0</td>\n",
       "      <td>36.0</td>\n",
       "      <td>40.5</td>\n",
       "      <td>35.5</td>\n",
       "    </tr>\n",
       "    <tr>\n",
       "      <th>2023-02-10</th>\n",
       "      <td>0.00</td>\n",
       "      <td>0.0</td>\n",
       "      <td>43.0</td>\n",
       "      <td>28.0</td>\n",
       "      <td>35.5</td>\n",
       "      <td>30.5</td>\n",
       "    </tr>\n",
       "  </tbody>\n",
       "</table>\n",
       "<p>7519 rows × 6 columns</p>\n",
       "</div>"
      ],
      "text/plain": [
       "            PRCP  SNWD  TMAX  TMIN  TAvg  target_tavg\n",
       "DATE                                                 \n",
       "2002-06-04  0.19   0.0  57.0  48.0  52.5         63.0\n",
       "2002-06-05  0.13   0.0  74.0  52.0  63.0         59.5\n",
       "2002-06-06  0.00   0.0  64.0  55.0  59.5         61.5\n",
       "2002-06-07  0.00   0.0  71.0  52.0  61.5         65.0\n",
       "2002-06-08  0.00   0.0  77.0  53.0  65.0         73.5\n",
       "...          ...   ...   ...   ...   ...          ...\n",
       "2023-02-06  0.00   2.4  38.0  28.0  33.0         40.0\n",
       "2023-02-07  0.00   2.0  48.0  32.0  40.0         41.0\n",
       "2023-02-08  0.00   0.4  46.0  36.0  41.0         40.5\n",
       "2023-02-09  1.11   0.0  45.0  36.0  40.5         35.5\n",
       "2023-02-10  0.00   0.0  43.0  28.0  35.5         30.5\n",
       "\n",
       "[7519 rows x 6 columns]"
      ]
     },
     "execution_count": 27,
     "metadata": {},
     "output_type": "execute_result"
    }
   ],
   "source": [
    "df_"
   ]
  },
  {
   "cell_type": "code",
   "execution_count": null,
   "id": "b0e2e1e0",
   "metadata": {},
   "outputs": [],
   "source": []
  },
  {
   "cell_type": "markdown",
   "id": "bcf54b4b",
   "metadata": {},
   "source": [
    "Importing Ridge regression model and initialising in it"
   ]
  },
  {
   "cell_type": "code",
   "execution_count": 28,
   "id": "36beff9c",
   "metadata": {},
   "outputs": [],
   "source": [
    "from sklearn.linear_model import Ridge\n",
    "reg = Ridge(alpha=.1) "
   ]
  },
  {
   "cell_type": "markdown",
   "id": "a4b94424",
   "metadata": {},
   "source": [
    "creating a list of variable that can be used for prediction"
   ]
  },
  {
   "cell_type": "code",
   "execution_count": 29,
   "id": "60706cdf",
   "metadata": {},
   "outputs": [],
   "source": [
    "predictors=[\"PRCP\",\"TMAX\",\"TMIN\",\"TAvg\"] "
   ]
  },
  {
   "cell_type": "markdown",
   "id": "75c043f4",
   "metadata": {},
   "source": [
    "taking the data for training upto 2020-12-31"
   ]
  },
  {
   "cell_type": "code",
   "execution_count": 30,
   "id": "ffe682c8",
   "metadata": {},
   "outputs": [],
   "source": [
    "train=df_.loc[:'2020-12-31'] "
   ]
  },
  {
   "cell_type": "markdown",
   "id": "743232e5",
   "metadata": {},
   "source": [
    "taking the data for testing from 2021-01-01"
   ]
  },
  {
   "cell_type": "code",
   "execution_count": 31,
   "id": "af1ddc80",
   "metadata": {},
   "outputs": [],
   "source": [
    "test=df_.loc['2021-01-01':] "
   ]
  },
  {
   "cell_type": "markdown",
   "id": "829017b0",
   "metadata": {},
   "source": [
    " calling fit method to predict the data"
   ]
  },
  {
   "cell_type": "code",
   "execution_count": 32,
   "id": "91eec0d4",
   "metadata": {},
   "outputs": [
    {
     "data": {
      "text/plain": [
       "Ridge(alpha=0.1)"
      ]
     },
     "execution_count": 32,
     "metadata": {},
     "output_type": "execute_result"
    }
   ],
   "source": [
    "reg.fit(train[predictors],train[\"target_tavg\"])"
   ]
  },
  {
   "cell_type": "markdown",
   "id": "3407ec0e",
   "metadata": {},
   "source": [
    " we predict the data using our test dataset"
   ]
  },
  {
   "cell_type": "code",
   "execution_count": 33,
   "id": "7c5eb2b8",
   "metadata": {},
   "outputs": [],
   "source": [
    "predictions = reg.predict(test[predictors])"
   ]
  },
  {
   "cell_type": "code",
   "execution_count": null,
   "id": "c61fe09a",
   "metadata": {},
   "outputs": [],
   "source": []
  },
  {
   "cell_type": "markdown",
   "id": "3f13b665",
   "metadata": {},
   "source": [
    "calculating the error"
   ]
  },
  {
   "cell_type": "code",
   "execution_count": 34,
   "id": "c77e5759",
   "metadata": {},
   "outputs": [],
   "source": [
    "from sklearn.metrics import mean_absolute_error"
   ]
  },
  {
   "cell_type": "code",
   "execution_count": 35,
   "id": "fc7c735e",
   "metadata": {},
   "outputs": [
    {
     "data": {
      "text/plain": [
       "4.176131314449881"
      ]
     },
     "execution_count": 35,
     "metadata": {},
     "output_type": "execute_result"
    }
   ],
   "source": [
    "mean_absolute_error(test['target_tavg'], predictions) "
   ]
  },
  {
   "cell_type": "markdown",
   "id": "9e680afd",
   "metadata": {},
   "source": [
    "On Average our model gives 4.17 error from the actual temp"
   ]
  },
  {
   "cell_type": "code",
   "execution_count": 36,
   "id": "b5542aee",
   "metadata": {},
   "outputs": [
    {
     "data": {
      "text/html": [
       "<div>\n",
       "<style scoped>\n",
       "    .dataframe tbody tr th:only-of-type {\n",
       "        vertical-align: middle;\n",
       "    }\n",
       "\n",
       "    .dataframe tbody tr th {\n",
       "        vertical-align: top;\n",
       "    }\n",
       "\n",
       "    .dataframe thead th {\n",
       "        text-align: right;\n",
       "    }\n",
       "</style>\n",
       "<table border=\"1\" class=\"dataframe\">\n",
       "  <thead>\n",
       "    <tr style=\"text-align: right;\">\n",
       "      <th></th>\n",
       "      <th>actual</th>\n",
       "      <th>predictions</th>\n",
       "    </tr>\n",
       "    <tr>\n",
       "      <th>DATE</th>\n",
       "      <th></th>\n",
       "      <th></th>\n",
       "    </tr>\n",
       "  </thead>\n",
       "  <tbody>\n",
       "    <tr>\n",
       "      <th>2021-01-01</th>\n",
       "      <td>33.0</td>\n",
       "      <td>33.790394</td>\n",
       "    </tr>\n",
       "    <tr>\n",
       "      <th>2021-01-02</th>\n",
       "      <td>34.0</td>\n",
       "      <td>33.268263</td>\n",
       "    </tr>\n",
       "    <tr>\n",
       "      <th>2021-01-03</th>\n",
       "      <td>33.5</td>\n",
       "      <td>35.626797</td>\n",
       "    </tr>\n",
       "    <tr>\n",
       "      <th>2021-01-04</th>\n",
       "      <td>34.0</td>\n",
       "      <td>35.479826</td>\n",
       "    </tr>\n",
       "    <tr>\n",
       "      <th>2021-01-05</th>\n",
       "      <td>33.5</td>\n",
       "      <td>36.006429</td>\n",
       "    </tr>\n",
       "    <tr>\n",
       "      <th>...</th>\n",
       "      <td>...</td>\n",
       "      <td>...</td>\n",
       "    </tr>\n",
       "    <tr>\n",
       "      <th>2023-02-06</th>\n",
       "      <td>40.0</td>\n",
       "      <td>34.238555</td>\n",
       "    </tr>\n",
       "    <tr>\n",
       "      <th>2023-02-07</th>\n",
       "      <td>41.0</td>\n",
       "      <td>40.360068</td>\n",
       "    </tr>\n",
       "    <tr>\n",
       "      <th>2023-02-08</th>\n",
       "      <td>40.5</td>\n",
       "      <td>41.976742</td>\n",
       "    </tr>\n",
       "    <tr>\n",
       "      <th>2023-02-09</th>\n",
       "      <td>35.5</td>\n",
       "      <td>37.979059</td>\n",
       "    </tr>\n",
       "    <tr>\n",
       "      <th>2023-02-10</th>\n",
       "      <td>30.5</td>\n",
       "      <td>36.115571</td>\n",
       "    </tr>\n",
       "  </tbody>\n",
       "</table>\n",
       "<p>766 rows × 2 columns</p>\n",
       "</div>"
      ],
      "text/plain": [
       "            actual  predictions\n",
       "DATE                           \n",
       "2021-01-01    33.0    33.790394\n",
       "2021-01-02    34.0    33.268263\n",
       "2021-01-03    33.5    35.626797\n",
       "2021-01-04    34.0    35.479826\n",
       "2021-01-05    33.5    36.006429\n",
       "...            ...          ...\n",
       "2023-02-06    40.0    34.238555\n",
       "2023-02-07    41.0    40.360068\n",
       "2023-02-08    40.5    41.976742\n",
       "2023-02-09    35.5    37.979059\n",
       "2023-02-10    30.5    36.115571\n",
       "\n",
       "[766 rows x 2 columns]"
      ]
     },
     "execution_count": 36,
     "metadata": {},
     "output_type": "execute_result"
    }
   ],
   "source": [
    "combined_tavg=pd.concat([test[\"target_tavg\"], pd.Series(predictions, index=test.index)], axis =1)\n",
    "combined_tavg.columns = ['actual','predictions']\n",
    "combined_tavg"
   ]
  },
  {
   "cell_type": "code",
   "execution_count": null,
   "id": "d3ebfd3d",
   "metadata": {},
   "outputs": [],
   "source": []
  },
  {
   "cell_type": "markdown",
   "id": "f1ce329c",
   "metadata": {},
   "source": [
    "Using the chart to see how different the predicted data is from the actual"
   ]
  },
  {
   "cell_type": "code",
   "execution_count": 37,
   "id": "d7c4f577",
   "metadata": {
    "scrolled": true
   },
   "outputs": [
    {
     "data": {
      "text/plain": [
       "<AxesSubplot:xlabel='DATE'>"
      ]
     },
     "execution_count": 37,
     "metadata": {},
     "output_type": "execute_result"
    },
    {
     "data": {
      "image/png": "[encoded data removed]",
      "text/plain": [
       "<Figure size 640x480 with 1 Axes>"
      ]
     },
     "metadata": {},
     "output_type": "display_data"
    }
   ],
   "source": [
    "combined_tavg.plot() "
   ]
  },
  {
   "cell_type": "code",
   "execution_count": null,
   "id": "2b2e5d74",
   "metadata": {},
   "outputs": [],
   "source": []
  },
  {
   "cell_type": "markdown",
   "id": "42b76a82",
   "metadata": {},
   "source": [
    "calculating the difference between the predicted and the original"
   ]
  },
  {
   "cell_type": "code",
   "execution_count": 38,
   "id": "406256fb",
   "metadata": {},
   "outputs": [],
   "source": [
    "combined_tavg['diff'] = combined_tavg['predictions']- combined_tavg['actual'] "
   ]
  },
  {
   "cell_type": "code",
   "execution_count": 39,
   "id": "e17cf0c7",
   "metadata": {},
   "outputs": [
    {
     "data": {
      "text/html": [
       "<div>\n",
       "<style scoped>\n",
       "    .dataframe tbody tr th:only-of-type {\n",
       "        vertical-align: middle;\n",
       "    }\n",
       "\n",
       "    .dataframe tbody tr th {\n",
       "        vertical-align: top;\n",
       "    }\n",
       "\n",
       "    .dataframe thead th {\n",
       "        text-align: right;\n",
       "    }\n",
       "</style>\n",
       "<table border=\"1\" class=\"dataframe\">\n",
       "  <thead>\n",
       "    <tr style=\"text-align: right;\">\n",
       "      <th></th>\n",
       "      <th>actual</th>\n",
       "      <th>predictions</th>\n",
       "      <th>diff</th>\n",
       "    </tr>\n",
       "    <tr>\n",
       "      <th>DATE</th>\n",
       "      <th></th>\n",
       "      <th></th>\n",
       "      <th></th>\n",
       "    </tr>\n",
       "  </thead>\n",
       "  <tbody>\n",
       "    <tr>\n",
       "      <th>2021-01-01</th>\n",
       "      <td>33.0</td>\n",
       "      <td>33.790394</td>\n",
       "      <td>0.790394</td>\n",
       "    </tr>\n",
       "    <tr>\n",
       "      <th>2021-01-02</th>\n",
       "      <td>34.0</td>\n",
       "      <td>33.268263</td>\n",
       "      <td>-0.731737</td>\n",
       "    </tr>\n",
       "    <tr>\n",
       "      <th>2021-01-03</th>\n",
       "      <td>33.5</td>\n",
       "      <td>35.626797</td>\n",
       "      <td>2.126797</td>\n",
       "    </tr>\n",
       "    <tr>\n",
       "      <th>2021-01-04</th>\n",
       "      <td>34.0</td>\n",
       "      <td>35.479826</td>\n",
       "      <td>1.479826</td>\n",
       "    </tr>\n",
       "    <tr>\n",
       "      <th>2021-01-05</th>\n",
       "      <td>33.5</td>\n",
       "      <td>36.006429</td>\n",
       "      <td>2.506429</td>\n",
       "    </tr>\n",
       "    <tr>\n",
       "      <th>...</th>\n",
       "      <td>...</td>\n",
       "      <td>...</td>\n",
       "      <td>...</td>\n",
       "    </tr>\n",
       "    <tr>\n",
       "      <th>2023-02-06</th>\n",
       "      <td>40.0</td>\n",
       "      <td>34.238555</td>\n",
       "      <td>-5.761445</td>\n",
       "    </tr>\n",
       "    <tr>\n",
       "      <th>2023-02-07</th>\n",
       "      <td>41.0</td>\n",
       "      <td>40.360068</td>\n",
       "      <td>-0.639932</td>\n",
       "    </tr>\n",
       "    <tr>\n",
       "      <th>2023-02-08</th>\n",
       "      <td>40.5</td>\n",
       "      <td>41.976742</td>\n",
       "      <td>1.476742</td>\n",
       "    </tr>\n",
       "    <tr>\n",
       "      <th>2023-02-09</th>\n",
       "      <td>35.5</td>\n",
       "      <td>37.979059</td>\n",
       "      <td>2.479059</td>\n",
       "    </tr>\n",
       "    <tr>\n",
       "      <th>2023-02-10</th>\n",
       "      <td>30.5</td>\n",
       "      <td>36.115571</td>\n",
       "      <td>5.615571</td>\n",
       "    </tr>\n",
       "  </tbody>\n",
       "</table>\n",
       "<p>766 rows × 3 columns</p>\n",
       "</div>"
      ],
      "text/plain": [
       "            actual  predictions      diff\n",
       "DATE                                     \n",
       "2021-01-01    33.0    33.790394  0.790394\n",
       "2021-01-02    34.0    33.268263 -0.731737\n",
       "2021-01-03    33.5    35.626797  2.126797\n",
       "2021-01-04    34.0    35.479826  1.479826\n",
       "2021-01-05    33.5    36.006429  2.506429\n",
       "...            ...          ...       ...\n",
       "2023-02-06    40.0    34.238555 -5.761445\n",
       "2023-02-07    41.0    40.360068 -0.639932\n",
       "2023-02-08    40.5    41.976742  1.476742\n",
       "2023-02-09    35.5    37.979059  2.479059\n",
       "2023-02-10    30.5    36.115571  5.615571\n",
       "\n",
       "[766 rows x 3 columns]"
      ]
     },
     "execution_count": 39,
     "metadata": {},
     "output_type": "execute_result"
    }
   ],
   "source": [
    "combined_tavg"
   ]
  },
  {
   "cell_type": "code",
   "execution_count": null,
   "id": "954a6233",
   "metadata": {},
   "outputs": [],
   "source": []
  }
 ],
 "metadata": {
  "kernelspec": {
   "display_name": "Python 3 (ipykernel)",
   "language": "python",
   "name": "python3"
  },
  "language_info": {
   "codemirror_mode": {
    "name": "ipython",
    "version": 3
   },
   "file_extension": ".py",
   "mimetype": "text/x-python",
   "name": "python",
   "nbconvert_exporter": "python",
   "pygments_lexer": "ipython3",
   "version": "3.9.13"
  }
 },
 "nbformat": 4,
 "nbformat_minor": 5
}
